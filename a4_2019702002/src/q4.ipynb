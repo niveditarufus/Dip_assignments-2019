{
 "cells": [
  {
   "cell_type": "code",
   "execution_count": 1,
   "metadata": {},
   "outputs": [],
   "source": [
    "from skimage import filters, util, color, morphology\n",
    "import numpy as np\n",
    "from numpy import rot90,invert\n",
    "from skimage.io import imread, imshow\n",
    "import matplotlib.pyplot as plt\n",
    "from scipy.ndimage.morphology import binary_hit_or_miss\n",
    "from skimage.color import rgb2gray\n",
    "from skimage.morphology import erosion, dilation, opening, closing,square,rectangle,binary_closing,disk\n",
    "import cv2\n",
    "\n",
    "def make_binary(img):\n",
    "    T = filters.threshold_otsu(img)\n",
    "    img[img <= T] = 0\n",
    "    img[img > T] = 255\n",
    "    return img"
   ]
  },
  {
   "cell_type": "code",
   "execution_count": 2,
   "metadata": {},
   "outputs": [
    {
     "name": "stdout",
     "output_type": "stream",
     "text": [
      "37\n"
     ]
    },
    {
     "data": {
      "image/png": "[encoded data removed]",
      "text/plain": [
       "<Figure size 432x288 with 1 Axes>"
      ]
     },
     "metadata": {
      "needs_background": "light"
     },
     "output_type": "display_data"
    }
   ],
   "source": [
    "img_col = cv2.imread('objects.png')\n",
    "img = cv2.cvtColor(img_col, cv2.COLOR_BGR2GRAY)\n",
    "img = make_binary(img)\n",
    "contours, hierarchy = cv2.findContours(img,cv2.RETR_CCOMP,cv2.CHAIN_APPROX_SIMPLE)\n",
    "imshow(img)\n",
    "out = np.zeros(img.shape)\n",
    "print(len(contours))\n"
   ]
  },
  {
   "cell_type": "markdown",
   "metadata": {},
   "source": [
    "## objects with one or two holes"
   ]
  },
  {
   "cell_type": "code",
   "execution_count": 3,
   "metadata": {},
   "outputs": [
    {
     "name": "stderr",
     "output_type": "stream",
     "text": [
      "/home/nive/.local/lib/python3.6/site-packages/skimage/io/_plugins/matplotlib_plugin.py:78: UserWarning: Float image out of standard range; displaying image with stretched contrast.\n",
      "  warn(\"Float image out of standard range; displaying \"\n"
     ]
    },
    {
     "name": "stdout",
     "output_type": "stream",
     "text": [
      "objects with one hole:  2\n",
      "objects with two holes:  4\n"
     ]
    },
    {
     "data": {
      "image/png": "[encoded data removed]",
      "text/plain": [
       "<Figure size 432x288 with 2 Axes>"
      ]
     },
     "metadata": {
      "needs_background": "light"
     },
     "output_type": "display_data"
    }
   ],
   "source": [
    "def object_with_holes(image):\n",
    "    canvas = np.zeros(image.shape)\n",
    "    one_hole = 0\n",
    "    two_hole = 0\n",
    "\n",
    "    max_num = np.amax(hierarchy) +1\n",
    "    for c, h in zip(contours, hierarchy[0]):\n",
    "        if h[2] != -1:\n",
    "            if h[0] == -1:\n",
    "\n",
    "                num_interior_contours = max_num - h[2]\n",
    "            else: num_interior_contours = h[0]-h[2]\n",
    "        else: num_interior_contours = 0\n",
    "        \n",
    "        if num_interior_contours == 1:\n",
    "            cv2.drawContours(canvas, [c], -1, (255), 2)\n",
    "            one_hole += 1\n",
    "        if num_interior_contours == 2:\n",
    "            two_hole += 1\n",
    "            cv2.drawContours(canvas, [c], -1, (255), 2)\n",
    "    imshow(canvas,cmap = 'gray')\n",
    "    return(one_hole,two_hole,canvas)\n",
    "\n",
    "one_hole,two_hole,im1 = object_with_holes(img)\n",
    "im1 = make_binary(im1)\n",
    "print(\"objects with one hole: \",one_hole)\n",
    "print(\"objects with two holes: \", two_hole)"
   ]
  },
  {
   "cell_type": "markdown",
   "metadata": {},
   "source": [
    "## no.of squares:"
   ]
  },
  {
   "cell_type": "code",
   "execution_count": 4,
   "metadata": {},
   "outputs": [
    {
     "name": "stdout",
     "output_type": "stream",
     "text": [
      "No.of squares:  11\n"
     ]
    },
    {
     "data": {
      "image/png": "[encoded data removed]",
      "text/plain": [
       "<Figure size 432x288 with 1 Axes>"
      ]
     },
     "metadata": {
      "needs_background": "light"
     },
     "output_type": "display_data"
    }
   ],
   "source": [
    "def count_squares(img):\n",
    "    canvas = np.zeros(img.shape,np.uint8)\n",
    "    \n",
    "    count =0\n",
    "    miss = np.array([[1,1,1],[1,0,0],[1,0,0]])\n",
    "    hit = np.array([[0,0,0],[0,0,0],[0,0,0]])\n",
    "    for c, h in zip(contours, hierarchy[0]):\n",
    "        \n",
    "        mask = np.zeros(img.shape,np.uint8)\n",
    "        x = cv2.drawContours(mask,[c],0,255,-1)\n",
    "        x = x & binary_hit_or_miss(x,hit,miss)\n",
    "\n",
    "        if x.any() !=0:\n",
    "            count += 1\n",
    "            cv2.drawContours(canvas, [c], -1, 255, 2)\n",
    "    return(canvas,count)\n",
    "im2,count = count_squares(img)\n",
    "imshow(im2,cmap='gray')\n",
    "\n",
    "print(\"No.of squares: \",count)"
   ]
  },
  {
   "cell_type": "markdown",
   "metadata": {},
   "source": [
    "## no.of squares with holes:"
   ]
  },
  {
   "cell_type": "code",
   "execution_count": 5,
   "metadata": {},
   "outputs": [
    {
     "name": "stdout",
     "output_type": "stream",
     "text": [
      "(331, 384) (331, 384)\n"
     ]
    },
    {
     "name": "stderr",
     "output_type": "stream",
     "text": [
      "/home/nive/.local/lib/python3.6/site-packages/skimage/io/_plugins/matplotlib_plugin.py:75: UserWarning: Low image data range; displaying image with stretched contrast.\n",
      "  warn(\"Low image data range; displaying image with \"\n"
     ]
    },
    {
     "data": {
      "text/plain": [
       "<matplotlib.image.AxesImage at 0x7f2871942c18>"
      ]
     },
     "execution_count": 5,
     "metadata": {},
     "output_type": "execute_result"
    },
    {
     "data": {
      "image/png": "[encoded data removed]",
      "text/plain": [
       "<Figure size 432x288 with 2 Axes>"
      ]
     },
     "metadata": {
      "needs_background": "light"
     },
     "output_type": "display_data"
    }
   ],
   "source": [
    "import sys\n",
    "import numpy\n",
    "numpy.set_printoptions(threshold=sys.maxsize)\n",
    "print(im1.shape,im2.shape)\n",
    "def square_with_holes(img1,img2):\n",
    "    i = np.where(img1 == 0,False,True)\n",
    "    j = np.where(img2 == 0,False,True)\n",
    "    x = i&j\n",
    "    x = np.where(x ==False,0,255)\n",
    "    return (x)\n",
    "im2 = make_binary(im2)\n",
    "im1 = make_binary(im1)\n",
    "im3 = square_with_holes(im1,im2)\n",
    "imshow(im3,cmap=\"gray\")"
   ]
  },
  {
   "cell_type": "markdown",
   "metadata": {},
   "source": [
    "## Circles without holes:"
   ]
  },
  {
   "cell_type": "code",
   "execution_count": 6,
   "metadata": {},
   "outputs": [
    {
     "data": {
      "text/plain": [
       "<matplotlib.image.AxesImage at 0x7f2871883320>"
      ]
     },
     "execution_count": 6,
     "metadata": {},
     "output_type": "execute_result"
    },
    {
     "data": {
      "image/png": "[encoded data removed]",
      "text/plain": [
       "<Figure size 432x288 with 1 Axes>"
      ]
     },
     "metadata": {
      "needs_background": "light"
     },
     "output_type": "display_data"
    }
   ],
   "source": [
    "def all_contours(img):\n",
    "    canvas = np.zeros(img.shape,np.uint8)\n",
    "    \n",
    "    count =0\n",
    "    miss = np.array([[1,1,1],[1,0,0],[1,0,0]])\n",
    "    hit = np.array([[0,0,0],[0,0,0],[0,0,0]])\n",
    "    for c, h in zip(contours, hierarchy[0]):\n",
    "        \n",
    "        mask = np.zeros(img.shape,np.uint8)\n",
    "        x = cv2.drawContours(mask,[c],0,255,-1)\n",
    "        x = x & binary_hit_or_miss(x,hit,miss)\n",
    "\n",
    "        if x.all() ==0:\n",
    "            count += 1\n",
    "            cv2.drawContours(canvas, [c], -1, 255, 2)\n",
    "    return(canvas)\n",
    "    \n",
    "    return(canvas)\n",
    "im2 = make_binary(im2)\n",
    "im1 = make_binary(im1)\n",
    "im4 = all_contours(img)\n",
    "imshow(im4,cmap = 'gray')"
   ]
  },
  {
   "cell_type": "code",
   "execution_count": 7,
   "metadata": {},
   "outputs": [
    {
     "data": {
      "text/plain": [
       "<matplotlib.image.AxesImage at 0x7f2871860be0>"
      ]
     },
     "execution_count": 7,
     "metadata": {},
     "output_type": "execute_result"
    },
    {
     "data": {
      "image/png": "[encoded data removed]",
      "text/plain": [
       "<Figure size 432x288 with 1 Axes>"
      ]
     },
     "metadata": {
      "needs_background": "light"
     },
     "output_type": "display_data"
    }
   ],
   "source": [
    "im5 = make_binary(im4 -im2)\n",
    "imshow(im5,cmap = 'gray')"
   ]
  },
  {
   "cell_type": "code",
   "execution_count": 8,
   "metadata": {},
   "outputs": [
    {
     "data": {
      "text/plain": [
       "<matplotlib.image.AxesImage at 0x7f28717bdf60>"
      ]
     },
     "execution_count": 8,
     "metadata": {},
     "output_type": "execute_result"
    },
    {
     "data": {
      "image/png": "[encoded data removed]",
      "text/plain": [
       "<Figure size 432x288 with 2 Axes>"
      ]
     },
     "metadata": {
      "needs_background": "light"
     },
     "output_type": "display_data"
    }
   ],
   "source": [
    "i = np.where(im1 == 0,False,True)\n",
    "j = np.where(im5 == 0,False,True)\n",
    "x = i&j\n",
    "im6 = np.where(x ==False,0,255)\n",
    "im6 = make_binary(im6)\n",
    "imshow(im6,cmap = 'gray')"
   ]
  },
  {
   "cell_type": "code",
   "execution_count": 9,
   "metadata": {},
   "outputs": [
    {
     "data": {
      "text/plain": [
       "<matplotlib.image.AxesImage at 0x7f28716f65f8>"
      ]
     },
     "execution_count": 9,
     "metadata": {},
     "output_type": "execute_result"
    },
    {
     "data": {
      "image/png": "[encoded data removed]",
      "text/plain": [
       "<Figure size 432x288 with 2 Axes>"
      ]
     },
     "metadata": {
      "needs_background": "light"
     },
     "output_type": "display_data"
    }
   ],
   "source": [
    "cimg = np.zeros(img.shape)\n",
    "c = cv2.HoughCircles(im5, cv2.HOUGH_GRADIENT, 1, 20, param1=50,param2=22, minRadius=3,maxRadius=30)\n",
    "c = np.uint16(np.around(c))\n",
    "for i in c[0,:]:\n",
    "    cv2.circle(cimg,(i[0],i[1]),i[2],(255),2)\n",
    "imshow(cimg,cmap='gray')"
   ]
  }
 ],
 "metadata": {
  "kernelspec": {
   "display_name": "Python 3",
   "language": "python",
   "name": "python3"
  },
  "language_info": {
   "codemirror_mode": {
    "name": "ipython",
    "version": 3
   },
   "file_extension": ".py",
   "mimetype": "text/x-python",
   "name": "python",
   "nbconvert_exporter": "python",
   "pygments_lexer": "ipython3",
   "version": "3.6.8"
  }
 },
 "nbformat": 4,
 "nbformat_minor": 2
}
